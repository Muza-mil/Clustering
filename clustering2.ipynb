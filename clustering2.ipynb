{
 "cells": [
  {
   "cell_type": "code",
   "execution_count": 1,
   "id": "8d1389ea",
   "metadata": {},
   "outputs": [
    {
     "name": "stdout",
     "output_type": "stream",
     "text": [
      "importing Jupyter notebook from extract_info.ipynb\n",
      "importing Jupyter notebook from bTree.ipynb\n"
     ]
    }
   ],
   "source": [
    "#1 Importing the libraries\n",
    "import numpy as np\n",
    "import matplotlib.pyplot as plt\n",
    "import pandas as pd \n",
    "from config import BASE_DIR\n",
    "from scipy.cluster.hierarchy import dendrogram,  fcluster\n",
    "from sklearn.cluster import AgglomerativeClustering\n",
    "import scipy.spatial.distance\n",
    "import import_ipynb \n",
    "import pickle\n",
    " \n",
    "from extract_info import vect2cid, cid2vect\n",
    "from bTree import Node"
   ]
  },
  {
   "cell_type": "code",
   "execution_count": 2,
   "id": "feddf83c",
   "metadata": {},
   "outputs": [],
   "source": [
    "dataset = pd.read_csv(f'{BASE_DIR}/VECTORIZED_CSV/vectors_list.csv',header=None)\n",
    "#csv file has no header, we have to define header=None. Oterwise first column used as a header.\n",
    "\n",
    "#3 Using the dendrogram to find the optimal numbers of clusters. # First thing we're going to do is to import scipy\n",
    "# library. scipy is #an open source Python library that contains tools to do #hierarchical clustering and building\n",
    "# dendrograms. Only import the #needed tool. import scipy.cluster.hierarchy as sch #Lets create a dendrogram variable\n",
    "# linkage is actually the algorithm #itself of hierarchical clustering and then in linkage we have to #specify on\n",
    "# which data we apply and engage. This is X dataset dendrogram = sch.dendrogram(sch.linkage(X, method  = \"ward\"))\n",
    "# plt.title('Dendrogram') plt.xlabel('Compounds') plt.ylabel('Euclidean distances') plt.show()\n",
    "\n",
    "\n",
    "#4 Fitting hierarchical clustering to the Mall_Customes dataset # There are two algorithms for hierarchical\n",
    "# clustering: #Agglomerative Hierarchical Clustering and # Divisive Hierarchical Clustering. We choose Euclidean\n",
    "# distance and ward method for our algorithm class from sklearn.cluster import AgglomerativeClustering hc =\n",
    "# AgglomerativeClustering(n_clusters = 2, affinity = 'euclidean', linkage ='ward') # Lets try to fit the hierarchical\n",
    "# clustering algorithm  to dataset #X while creating the clusters vector that tells for each customer #which cluster\n",
    "# the customer belongs to. y_hc=hc.fit_predict(X)\n",
    " \n",
    "def plot_dendrogram(model, **kwargs):\n",
    "    # Create linkage matrix and then plot the dendrogram\n",
    "    # create the counts of samples under each node\n",
    "    counts = np.zeros(model.children_.shape[0])\n",
    "    n_samples = len(model.labels_)  \n",
    "    \n",
    "    for i, merge in enumerate(model.children_):\n",
    "        current_count = 0  \n",
    "        for child_idx in merge:           \n",
    "            if child_idx < n_samples:\n",
    "                current_count += 1  # leaf node  \n",
    "            else:\n",
    "                current_count += counts[child_idx - n_samples]\n",
    "        counts[i] = current_count   \n",
    "      \n",
    "    linkage_matrix = np.column_stack([model.children_, model.distances_,\n",
    "                                      counts]).astype(float)\n",
    "    # Plot the corresponding dendrogram ; 120 \n",
    "    dendrogram(linkage_matrix, color_threshold=110, **kwargs)\n",
    "    return linkage_matrix\n",
    "    \n",
    "def generate_cluster(dataset):\n",
    "    # setting distance_threshold=0 ensures we compute the full tree.\n",
    "    model = AgglomerativeClustering(distance_threshold=0, n_clusters=None,compute_full_tree=True)\n",
    "    model = model.fit(dataset)\n",
    "    plt.figure(figsize=(20,20))\n",
    "    plt.title('Hierarchical Clustering of Mol2Vec Embedded Compounds')\n",
    "    # plot the top three levels of the dendrogram\n",
    "    #levels of the dendrogram are index of dataset\n",
    "    linkageMatrix = plot_dendrogram(model)\n",
    "    plt.xlabel(\"Index\")\n",
    "    plt.ylabel(\"Linkage Distance\")\n",
    "    plt.show() \n",
    "    return linkageMatrix,model.n_leaves_\n"
   ]
  },
  {
   "cell_type": "code",
   "execution_count": 3,
   "id": "864809bb",
   "metadata": {},
   "outputs": [],
   "source": [
    "# Store linkage Matrix  into a pkl file, this is only for saving time when working, \n",
    "# otherwise we need to construct liankage matrix all the time\n",
    "def store_linkageMatrix(linkageMatrix):\n",
    "    filename = 'linkageMatrix.pkl'\n",
    "    outfile = open(filename,'wb+')\n",
    "    pickle.dump(linkageMatrix,outfile)\n",
    "    outfile.close "
   ]
  },
  {
   "cell_type": "code",
   "execution_count": 4,
   "id": "3caf1529",
   "metadata": {},
   "outputs": [],
   "source": [
    "def get_linkageMatrix():\n",
    "    # load mapping\n",
    "    infile = open(BASE_DIR+'/linkageMatrix.pkl', 'rb')\n",
    "    mapping = pickle.load(infile)\n",
    "    infile.close() \n",
    "    return (mapping) "
   ]
  },
  {
   "cell_type": "code",
   "execution_count": 5,
   "id": "8b823c83",
   "metadata": {},
   "outputs": [],
   "source": [
    "#replace dataset index with compound id\n",
    "# index_cid consist of key value pair . Here key is dataset index and value is Cid\n",
    "def store_cid_indexId(dataset):\n",
    "    index_cid = {} \n",
    "    for index in range(len(dataset)):\n",
    "        dataitem = dataset.loc[index].tolist() # read vector from datasset \n",
    "        index_cid[index] = vect2cid([np.asarray(dataitem)])\n",
    "    return index_cid\n",
    "    \n",
    "    \n",
    "'''\n",
    " extract cid from index\n",
    " input : list of dataset index\n",
    " output: list of cid\n",
    "'''\n",
    "def get_cid_from_index(ids):\n",
    "    cids = []\n",
    "    for index in ids:\n",
    "        cids.append(index_cid[index])\n",
    "    return cids"
   ]
  },
  {
   "cell_type": "code",
   "execution_count": 6,
   "id": "62b713d7",
   "metadata": {},
   "outputs": [],
   "source": [
    "#we need to generate a binary tree same as dendrogram, we need to track child alignment. Here we store alignment information in \"tree_helper\" dictionary\n",
    "# input : linkage matrix, no of compound\n",
    "# output: dictionary which contain partial information of child alignment\n",
    "# key of this dictionary is id of compound or cluster, linkage matrix provide unique id for each cluster\n",
    "# yet we don't know , which compounds are inside cluster, we will update this dictionary with cluster compounds later\n",
    "def compute_a_helper_to_genarate_tree(linkageMatrix,no_of_leaves):\n",
    "    tree_helper = {} \n",
    "    for idx in linkageMatrix:\n",
    "        left_child = int(idx.tolist()[0])\n",
    "        right_child = int(idx.tolist()[1]) \n",
    "\n",
    "        if left_child < no_of_leaves:\n",
    "            tree_helper[left_child] = [[left_child], 'l']\n",
    "        else:\n",
    "            # set new cluster position, without cluster items\n",
    "            tree_helper[left_child] = [[], 'l']\n",
    "        if right_child < no_of_leaves:\n",
    "            tree_helper[right_child] = [[right_child], 'r']\n",
    "        else:\n",
    "            tree_helper[right_child] = [[], 'r']\n",
    "\n",
    "    return tree_helper"
   ]
  },
  {
   "cell_type": "code",
   "execution_count": 7,
   "id": "eda13345",
   "metadata": {},
   "outputs": [],
   "source": [
    "# cut dendrogram at each joining poit\n",
    "#linkage matrix [item1 item2 distance number_of_cluster_items]\n",
    "# convert dataframe to list items using tolist()\n",
    "# dis.tolist()[2] : represent linkage  distance, cut the dendrogram at this level\n",
    "# dis.tolist()[3] : represent number of items of new cluster.\n",
    "# We will avoid to cut, where new cluster has 2 items. We need atleast 3 items to find a medoid in cluster  \n",
    "# In dict_cluster, key -> cluster id, value -> cluster items list\n",
    "# In dict_clusters, key -> distance, value -> clusters and leafs\n",
    "def cut_dendrogram_in_joining_distance(linkageMatrix,no_of_leaves):    \n",
    "    dict_clusters = {} \n",
    "    num = no_of_leaves\n",
    "    clusterList = []\n",
    "    for dis in linkageMatrix:\n",
    "        #if dis.tolist()[3] > 2:  \n",
    "        # dis.tolist()[3] > 2: first we avoid cut where 2 items create a cluster\n",
    "        # to create a tree, we need all leaf node. that why need to cut each joining point\n",
    "        \n",
    "        clusters = fcluster(linkageMatrix, dis.tolist()[2], criterion='distance') \n",
    "        dict_cluster = {}\n",
    "        i=0 \n",
    "        for x in clusters:\n",
    "            temp = dict_cluster.get(x) \n",
    "\n",
    "            if temp is None:\n",
    "                temp = [i]\n",
    "            else:\n",
    "                temp.append(i)\n",
    "\n",
    "            dict_cluster[x] = temp\n",
    "            i=i+1 \n",
    "            \n",
    "        # track new cluster and update tree_helper with cluster items\n",
    "        for id in dict_cluster: \n",
    "            new_cluster = dict_cluster.get(id) \n",
    "            if len(new_cluster) > 1 and new_cluster not in clusterList:\n",
    "                helper_item = tree_helper.get(num)\n",
    "                if helper_item != None and helper_item[0] == []:\n",
    "                    helper_item[0] = new_cluster\n",
    "                    tree_helper[num] = helper_item\n",
    "                    clusterList.append(new_cluster)            \n",
    "                    num +=1\n",
    "            \n",
    "                         \n",
    "        dict_clusters[dis.tolist()[2]] = dict_cluster       \n",
    "            \n",
    "    return dict_clusters"
   ]
  },
  {
   "cell_type": "code",
   "execution_count": 8,
   "id": "231a1980",
   "metadata": {},
   "outputs": [],
   "source": [
    "# simplify tree helper dict to list, that will minimize search for position \n",
    "def simplify_helperList(tree_helper):\n",
    "    tree_helperList = []\n",
    "    for idx in tree_helper:\n",
    "        cluster_info = tree_helper.get(idx)\n",
    "        if cluster_info[1] == 'l':\n",
    "            tree_helperList.append(cluster_info[0])\n",
    "    return tree_helperList"
   ]
  },
  {
   "cell_type": "code",
   "execution_count": 9,
   "id": "d598a796",
   "metadata": {},
   "outputs": [],
   "source": [
    "'''\n",
    " extract medoid from cluster\n",
    " input: set of vectors\n",
    " output: cid of medoid \n",
    "'''\n",
    "def get_medoid_from_cluster(cluster):\n",
    "    Y = scipy.spatial.distance.cdist(cluster, cluster, 'euclidean')\n",
    "    minidx = np.argmin(Y.sum(axis=0))\n",
    "    medvect = np.asarray(cluster[minidx])\n",
    "    cid = vect2cid([medvect]) #retrive compound id for this vector\n",
    "    return cid"
   ]
  },
  {
   "cell_type": "code",
   "execution_count": 10,
   "id": "dc6b15ca",
   "metadata": {},
   "outputs": [],
   "source": [
    "# input : dict of clusters\n",
    "# output : dict of cluster id -> [medoid,cluster items,parent]\n",
    "def get_medoids_from_clusters(dict_clusters):\n",
    "    cluster_id = 0\n",
    "    dict_medoid = {} \n",
    "    prev_cut_clusters = {}\n",
    "    parent = None \n",
    "\n",
    "    # reverse keys, to compute medoid of one cluster first. That will root for binary tree\n",
    "    keys = list(dict_clusters.keys())\n",
    "    keys.reverse() \n",
    "    #print(keys)\n",
    "\n",
    "    for cluster_key in keys:\n",
    "        clusters_list = dict_clusters.get(cluster_key)\n",
    "        for cluster in clusters_list: \n",
    "            cluster_list = clusters_list.get(cluster)\n",
    "\n",
    "            # check if cluster alrady calculate medoid \n",
    "            match = 0\n",
    "            medoid = None\n",
    "            for id in prev_cut_clusters:\n",
    "                if prev_cut_clusters[id] == cluster_list:\n",
    "                    match = 1\n",
    "                    break \n",
    "            # calculate medoid when cluster has at least 3 items and did not compute medoid yet        \n",
    "            if len(cluster_list) > 2 and match == 0:\n",
    "                temp_cluster = []\n",
    "                for dataid in cluster_list: \n",
    "                    item = dataset.loc[dataid].tolist()\n",
    "                    temp_cluster.append(item)\n",
    "                \n",
    "                medoid = get_medoid_from_cluster(temp_cluster) \n",
    "            \n",
    "            if match == 0:\n",
    "                pos = None\n",
    "                #set cluster position in tree \n",
    "                if cluster_list in tree_helperList: \n",
    "                    pos = 'l'\n",
    "                else:\n",
    "                    pos = 'r' \n",
    "\n",
    "                cid_list = get_cid_from_index(cluster_list)\n",
    "                # find cluster parent\n",
    "                # Check set_m  is a sub set of set_n, set(n) & set(m) == set(m)\n",
    "                # set_n is parent of set_m iff set_m is a  sub set if set_n\n",
    "                for x in range(cluster_id-1,-1,-1): \n",
    "                    if set(dict_medoid['C'+str(x)][1]) & set(cid_list) == set(cid_list):\n",
    "                        parent = 'C'+str(x) \n",
    "                        break \n",
    "                # cluster of  items and leaf node medoid set as a None \n",
    "                dict_medoid['C'+str(cluster_id)] = [medoid, cid_list,parent,pos]\n",
    "                cluster_id +=1\n",
    "        prev_cut_clusters = clusters_list\n",
    "         \n",
    "    return dict_medoid\n",
    "        \n",
    "        \n",
    "# multiple custers may have same medoid. i.e \n",
    "#    'C0': [19,[1, 11, 12, 13, 14, 15, 16, 17, 18, 19, 2, 20, 21, 3, 4, 5, 6, 7, 8, 9], None],\n",
    "#    'C6': [19, [12, 17, 18, 19, 20, 21, 3, 5, 8], 'C2'],\n",
    "#    'C8': [19, [12, 17, 19, 20, 3], 'C6'], \n",
    "#    'C11': [19, [12, 19, 20], 'C8']}\n",
    "     "
   ]
  },
  {
   "cell_type": "code",
   "execution_count": 11,
   "id": "77761277",
   "metadata": {},
   "outputs": [],
   "source": [
    "def store_medoid_list(dict_medoid):\n",
    "    filename = 'medoid_cluster_dict.pkl'\n",
    "    outfile = open(filename,'wb+')\n",
    "    pickle.dump(dict_medoid,outfile)\n",
    "    outfile.close   "
   ]
  },
  {
   "cell_type": "code",
   "execution_count": 12,
   "id": "3a35d8fb",
   "metadata": {},
   "outputs": [],
   "source": [
    "# insert clusters into a tree\n",
    "def insert_cluster_into_tree(dict_medoid):\n",
    "    for node_id in dict_medoid:\n",
    "        node = dict_medoid.get(node_id)\n",
    "        if node[2] == None:\n",
    "            root = Node(node_id,node) \n",
    "        else:\n",
    "            root.insert(node_id,node) \n",
    "    return root"
   ]
  },
  {
   "cell_type": "code",
   "execution_count": 13,
   "id": "f64dc5f4",
   "metadata": {},
   "outputs": [],
   "source": [
    "def store_tree(tree):\n",
    "    filename = 'medoid_cluster_tree.pkl'\n",
    "    outfile = open(filename,'wb+')\n",
    "    pickle.dump(tree,outfile)\n",
    "    outfile.close "
   ]
  },
  {
   "cell_type": "code",
   "execution_count": 14,
   "id": "d0790ac2",
   "metadata": {},
   "outputs": [
    {
     "data": {
      "image/png": "[encoded data removed]",
      "text/plain": [
       "<Figure size 1440x1440 with 1 Axes>"
      ]
     },
     "metadata": {
      "needs_background": "light"
     },
     "output_type": "display_data"
    }
   ],
   "source": [
    "linkageMatrix,no_of_leaves = generate_cluster(dataset) "
   ]
  },
  {
   "cell_type": "code",
   "execution_count": null,
   "id": "4955cae1",
   "metadata": {},
   "outputs": [],
   "source": [
    "#store_linkageMatrix(linkageMatrix)"
   ]
  },
  {
   "cell_type": "code",
   "execution_count": null,
   "id": "cf6728dd",
   "metadata": {},
   "outputs": [],
   "source": [
    "#linkageMatrix = getlinkageMatrix()\n",
    "#linkageMatrix"
   ]
  },
  {
   "cell_type": "code",
   "execution_count": 16,
   "id": "ee2db42c",
   "metadata": {},
   "outputs": [],
   "source": [
    "index_cid = store_cid_indexId(dataset)\n",
    "tree_helper =  compute_a_helper_to_genarate_tree(linkageMatrix,no_of_leaves)"
   ]
  },
  {
   "cell_type": "code",
   "execution_count": 17,
   "id": "892fe78d",
   "metadata": {},
   "outputs": [],
   "source": [
    "dict_clusters =  cut_dendrogram_in_joining_distance(linkageMatrix,no_of_leaves) "
   ]
  },
  {
   "cell_type": "code",
   "execution_count": null,
   "id": "6fab8d27",
   "metadata": {},
   "outputs": [],
   "source": [
    "#len(dict_clusters)"
   ]
  },
  {
   "cell_type": "code",
   "execution_count": 18,
   "id": "97d152c2",
   "metadata": {},
   "outputs": [],
   "source": [
    "tree_helperList = simplify_helperList(tree_helper)"
   ]
  },
  {
   "cell_type": "code",
   "execution_count": 19,
   "id": "5c7cbfae",
   "metadata": {},
   "outputs": [],
   "source": [
    "dict_medoid = get_medoids_from_clusters(dict_clusters)"
   ]
  },
  {
   "cell_type": "code",
   "execution_count": null,
   "id": "86a6aa3c",
   "metadata": {},
   "outputs": [],
   "source": [
    "#dict_medoid"
   ]
  },
  {
   "cell_type": "code",
   "execution_count": 20,
   "id": "20b7bc79",
   "metadata": {},
   "outputs": [],
   "source": [
    "store_medoid_list(dict_medoid)"
   ]
  },
  {
   "cell_type": "code",
   "execution_count": 21,
   "id": "16aad753",
   "metadata": {},
   "outputs": [],
   "source": [
    "root = insert_cluster_into_tree(dict_medoid)"
   ]
  },
  {
   "cell_type": "code",
   "execution_count": null,
   "id": "e31cb293",
   "metadata": {},
   "outputs": [],
   "source": [
    "# tree representation of clusters\n",
    "#root.PrintTree()"
   ]
  },
  {
   "cell_type": "code",
   "execution_count": 22,
   "id": "0c7194ae",
   "metadata": {},
   "outputs": [],
   "source": [
    "store_tree(root)"
   ]
  }
 ],
 "metadata": {
  "kernelspec": {
   "display_name": "Python 3",
   "language": "python",
   "name": "python3"
  },
  "language_info": {
   "codemirror_mode": {
    "name": "ipython",
    "version": 3
   },
   "file_extension": ".py",
   "mimetype": "text/x-python",
   "name": "python",
   "nbconvert_exporter": "python",
   "pygments_lexer": "ipython3",
   "version": "3.8.8"
  }
 },
 "nbformat": 4,
 "nbformat_minor": 5
}
