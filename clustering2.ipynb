{
 "cells": [
  {
   "cell_type": "code",
   "execution_count": 1,
   "id": "feddf83c",
   "metadata": {},
   "outputs": [
    {
     "name": "stdout",
     "output_type": "stream",
     "text": [
      "[[  8.          10.          13.59104223   2.        ]\n",
      " [ 11.          17.          15.21426845   2.        ]\n",
      " [  1.          19.          20.19378299   3.        ]\n",
      " [  0.          13.          24.05979809   2.        ]\n",
      " [  6.          12.          24.16991762   2.        ]\n",
      " [  2.          16.          31.2715358    2.        ]\n",
      " [  7.          20.          32.77462182   3.        ]\n",
      " [ 21.          23.          41.08928749   5.        ]\n",
      " [ 15.          24.          41.70868631   3.        ]\n",
      " [ 14.          25.          41.76671284   4.        ]\n",
      " [  9.          28.          49.83115624   5.        ]\n",
      " [ 22.          27.          52.91558028   5.        ]\n",
      " [ 26.          30.          55.51578499  10.        ]\n",
      " [  4.           5.          56.86749397   2.        ]\n",
      " [ 29.          31.          69.90506672  15.        ]\n",
      " [  3.          18.          83.68176195   2.        ]\n",
      " [ 32.          34.          87.66840692   4.        ]\n",
      " [ 33.          35.         127.14040424  19.        ]]\n"
     ]
    },
    {
     "data": {
      "image/png": "[encoded data removed]",
      "text/plain": [
       "<Figure size 432x288 with 1 Axes>"
      ]
     },
     "metadata": {
      "needs_background": "light"
     },
     "output_type": "display_data"
    }
   ],
   "source": [
    "#1 Importing the libraries\n",
    "import numpy as np\n",
    "import matplotlib.pyplot as plt\n",
    "import pandas as pd \n",
    "from config import BASE_DIR\n",
    "\n",
    "dataset = pd.read_csv(f'{BASE_DIR}/VECTORIZED_CSV/vectors_list.csv')\n",
    "X = dataset\n",
    "\n",
    "#3 Using the dendrogram to find the optimal numbers of clusters. # First thing we're going to do is to import scipy\n",
    "# library. scipy is #an open source Python library that contains tools to do #hierarchical clustering and building\n",
    "# dendrograms. Only import the #needed tool. import scipy.cluster.hierarchy as sch #Lets create a dendrogram variable\n",
    "# linkage is actually the algorithm #itself of hierarchical clustering and then in linkage we have to #specify on\n",
    "# which data we apply and engage. This is X dataset dendrogram = sch.dendrogram(sch.linkage(X, method  = \"ward\"))\n",
    "# plt.title('Dendrogram') plt.xlabel('Compounds') plt.ylabel('Euclidean distances') plt.show()\n",
    "\n",
    "\n",
    "#4 Fitting hierarchical clustering to the Mall_Customes dataset # There are two algorithms for hierarchical\n",
    "# clustering: #Agglomerative Hierarchical Clustering and # Divisive Hierarchical Clustering. We choose Euclidean\n",
    "# distance and ward method for our algorithm class from sklearn.cluster import AgglomerativeClustering hc =\n",
    "# AgglomerativeClustering(n_clusters = 2, affinity = 'euclidean', linkage ='ward') # Lets try to fit the hierarchical\n",
    "# clustering algorithm  to dataset #X while creating the clusters vector that tells for each customer #which cluster\n",
    "# the customer belongs to. y_hc=hc.fit_predict(X)\n",
    "\n",
    "\n",
    "\n",
    "\n",
    "from matplotlib import pyplot as plt\n",
    "from scipy.cluster.hierarchy import dendrogram\n",
    "from sklearn.cluster import AgglomerativeClustering\n",
    "\n",
    "\n",
    "def plot_dendrogram(model, **kwargs):\n",
    "    # Create linkage matrix and then plot the dendrogram\n",
    "\n",
    "    # create the counts of samples under each node\n",
    "    counts = np.zeros(model.children_.shape[0])\n",
    "    n_samples = len(model.labels_)\n",
    "    for i, merge in enumerate(model.children_):\n",
    "        current_count = 0\n",
    "        for child_idx in merge:\n",
    "            if child_idx < n_samples:\n",
    "                current_count += 1  # leaf node\n",
    "            else:\n",
    "                current_count += counts[child_idx - n_samples]\n",
    "        counts[i] = current_count\n",
    "\n",
    "    linkage_matrix = np.column_stack([model.children_, model.distances_,\n",
    "                                      counts]).astype(float)\n",
    "     \n",
    "    #print(linkage_matrix)\n",
    "    # Plot the corresponding dendrogram ; 120\n",
    "    dendrogram(linkage_matrix, color_threshold=110, **kwargs)\n",
    "   \n",
    "    # setting distance_threshold=0 ensures we compute the full tree.\n",
    "model = AgglomerativeClustering(distance_threshold=0, n_clusters=None)\n",
    "\n",
    "model = model.fit(dataset)\n",
    "plt.title('Hierarchical Clustering of Mol2Vec Embedded Compounds')\n",
    "# plot the top three levels of the dendrogram\n",
    "plot_dendrogram(model)\n",
    "plt.xlabel(\"CID\")\n",
    "plt.ylabel(\"Linkage Distance\")\n",
    "plt.show()\n"
   ]
  },
  {
   "cell_type": "code",
   "execution_count": null,
   "id": "ac019a4c",
   "metadata": {},
   "outputs": [],
   "source": []
  }
 ],
 "metadata": {
  "kernelspec": {
   "display_name": "Python 3",
   "language": "python",
   "name": "python3"
  },
  "language_info": {
   "codemirror_mode": {
    "name": "ipython",
    "version": 3
   },
   "file_extension": ".py",
   "mimetype": "text/x-python",
   "name": "python",
   "nbconvert_exporter": "python",
   "pygments_lexer": "ipython3",
   "version": "3.8.8"
  }
 },
 "nbformat": 4,
 "nbformat_minor": 5
}
