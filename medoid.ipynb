{
 "cells": [
  {
   "cell_type": "code",
   "execution_count": 2,
   "id": "34277ca7",
   "metadata": {},
   "outputs": [],
   "source": [
    "import scipy.spatial.distance\n",
    "import numpy as np\n",
    "\n",
    "\n",
    "'''\n",
    " extract medoid from cluster\n",
    " input: set of vectors\n",
    " output: [cid of medoid, medoid vector]\n",
    "'''\n",
    "def get_medoid_from_cluster(cluster):\n",
    "    Y = scipy.spatial.distance.cdist(cluster, cluster, 'euclidean')\n",
    "    minidx = np.argmin(Y.sum(axis=0))\n",
    "    medvect = X[minidx]\n",
    "    #cid = vect2cid(medvect)\n",
    "    cid = minidx\n",
    "    return [cid,medvect]"
   ]
  },
  {
   "cell_type": "code",
   "execution_count": 4,
   "id": "2dd5c281",
   "metadata": {},
   "outputs": [
    {
     "data": {
      "text/plain": [
       "array([4, 2])"
      ]
     },
     "execution_count": 4,
     "metadata": {},
     "output_type": "execute_result"
    }
   ],
   "source": [
    "X = np.asarray([[1, 3], [1, 4], [1, 0],\n",
    "                [4, 2], [4, 4], [4, 0]])\n",
    "medoid = get_medoid_from_cluster(X)\n",
    "medoid\n"
   ]
  },
  {
   "cell_type": "code",
   "execution_count": null,
   "id": "60ba56fc",
   "metadata": {},
   "outputs": [],
   "source": []
  }
 ],
 "metadata": {
  "kernelspec": {
   "display_name": "Python 3",
   "language": "python",
   "name": "python3"
  },
  "language_info": {
   "codemirror_mode": {
    "name": "ipython",
    "version": 3
   },
   "file_extension": ".py",
   "mimetype": "text/x-python",
   "name": "python",
   "nbconvert_exporter": "python",
   "pygments_lexer": "ipython3",
   "version": "3.8.8"
  }
 },
 "nbformat": 4,
 "nbformat_minor": 5
}
