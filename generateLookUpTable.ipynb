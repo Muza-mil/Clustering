{
 "cells": [
  {
   "cell_type": "code",
   "execution_count": null,
   "id": "c01de49a",
   "metadata": {},
   "outputs": [],
   "source": [
    "'''\n",
    "Two dictionaries to retrieve compound information\n",
    "\n",
    "dict 1:\n",
    "key: compound id, value: vector\n",
    " \n",
    "'''\n",
    "\n",
    "import glob\n",
    "import import_ipynb\n",
    "import mol2vect as m2vp \n",
    "import csv\n",
    "import pickle\n",
    "from config import BASE_DIR\n",
    "\n",
    "CSV_DIR = BASE_DIR + '/CSVS/' \n",
    " \n",
    "\n",
    "def generate_mappings(csvvectdir):\n",
    "    cid2vect_dict = {} \n",
    "\n",
    "    csvarray = glob.glob(csvvectdir+'*.csv')\n",
    "\n",
    "    print('POPULATING CID2VECT LOOKUP-TABLE:')\n",
    "    for csvfile in csvarray:\n",
    "        #get the compound id from the csv filename:\n",
    "        compid = int((csvfile.split('\\\\')[-1])[:-4])\n",
    "\n",
    "        molvec = m2vp.molvec_extractor(csvfile)\n",
    "        cid2vect_dict[compid] = list(molvec)\n",
    " \n",
    "    return cid2vect_dict\n",
    "\n",
    "\n",
    "#create mapping and pickle it!\n",
    "def create_dict_cid_vect():\n",
    "    #dictionary of all compound\n",
    "    covmapping = generate_mappings(CSV_DIR)\n",
    "\n",
    "    filename = 'cid_vect_dict.pkl'\n",
    "    outfile = open(filename,'wb+')\n",
    "    pickle.dump(covmapping,outfile)\n",
    "    outfile.close\n",
    "     \n",
    "\n",
    "'''\n",
    "for key in covmapping:\n",
    "    print(covmapping[key])\n",
    "'''"
   ]
  }
 ],
 "metadata": {
  "kernelspec": {
   "display_name": "Python 3",
   "language": "python",
   "name": "python3"
  },
  "language_info": {
   "codemirror_mode": {
    "name": "ipython",
    "version": 3
   },
   "file_extension": ".py",
   "mimetype": "text/x-python",
   "name": "python",
   "nbconvert_exporter": "python",
   "pygments_lexer": "ipython3",
   "version": "3.8.8"
  }
 },
 "nbformat": 4,
 "nbformat_minor": 5
}
