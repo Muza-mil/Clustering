{
 "cells": [
  {
   "cell_type": "code",
   "execution_count": 9,
   "id": "f367747c",
   "metadata": {},
   "outputs": [],
   "source": [
    "import datetime\n",
    "import time\n",
    "import import_ipynb \n",
    "\n",
    "from config import BASE_DIR\n",
    "from mol2vect import extract_vectorized_molecules, CSV_DIR, mass_featurize_sdf2vec\n",
    "from sdf_batch_splitting import split_sdf_batch_in_compounds\n",
    "\n",
    "\n",
    "def start_execution():\n",
    "    \"\"\"THIS ROUTINE RUNS ALL THE NEEDED ROUTINES.\"\"\"\n",
    "\n",
    "    \"\"\"BATCH SPLITTING ROUTINE\"\"\"\n",
    "    #split_sdf_batch_in_compounds(20)\n",
    "     #split_sdf_batch_in_compounds('all') # split all files \n",
    "\n",
    "    \"\"\"MOL2VEC FEATURIZATION ROUTINE\"\"\" \n",
    "    #mass_featurize_sdf2vec(SDF_FILES_DIR=f'{BASE_DIR}/SDF_PER_COMPOUND/')\n",
    "\n",
    "    \"\"\"MOL2VEC VECTORIZATION\"\"\"\n",
    "    extract_vectorized_molecules(INPUT_DIR=CSV_DIR, OUTPUT_CSV_FILENAME=f'{BASE_DIR}/VECTORIZED_CSV/vectors_list')\n",
    "\n",
    "    \"\"\" NOW JUS DENDROGRAM GENERATION IS LEFT. YOU CAN RUN THAT BY EXECUTING clustering2.py  \"\"\"\n",
    "\n",
    "\n",
    "if __name__ == '__main__':\n",
    "    start_execution()\n"
   ]
  },
  {
   "cell_type": "code",
   "execution_count": null,
   "id": "ecf63f6d",
   "metadata": {},
   "outputs": [],
   "source": []
  },
  {
   "cell_type": "code",
   "execution_count": null,
   "id": "2263e265",
   "metadata": {},
   "outputs": [],
   "source": []
  }
 ],
 "metadata": {
  "kernelspec": {
   "display_name": "Python 3",
   "language": "python",
   "name": "python3"
  },
  "language_info": {
   "codemirror_mode": {
    "name": "ipython",
    "version": 3
   },
   "file_extension": ".py",
   "mimetype": "text/x-python",
   "name": "python",
   "nbconvert_exporter": "python",
   "pygments_lexer": "ipython3",
   "version": "3.8.8"
  }
 },
 "nbformat": 4,
 "nbformat_minor": 5
}
