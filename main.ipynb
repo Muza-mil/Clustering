{
 "cells": [
  {
   "cell_type": "code",
   "execution_count": 2,
   "id": "f367747c",
   "metadata": {},
   "outputs": [
    {
     "name": "stdout",
     "output_type": "stream",
     "text": [
      "POPULATING CID2VECT LOOKUP-TABLE:\n"
     ]
    }
   ],
   "source": [
    "import import_ipynb \n",
    "\n",
    "from config import BASE_DIR\n",
    "from mol2vect import extract_vectorized_molecules, mass_featurize_sdf2vec\n",
    "from sdf_batch_splitting import split_sdf_batch_in_compounds\n",
    "from generateLookUpTable import create_dict_cid_vect \n",
    "\n",
    "SDF_PER_COMPOUND_DIR = f'{BASE_DIR}/SDF_PER_COMPOUND/'\n",
    "SDF_BATCHES_DIR =f'{BASE_DIR}/SDF_BATCHES/*.sdf'\n",
    "\n",
    "def start_execution():\n",
    "    \"\"\"THIS ROUTINE RUNS ALL THE NEEDED ROUTINES.\"\"\"\n",
    "\n",
    "    \"\"\"BATCH SPLITTING ROUTINE\"\"\"\n",
    "    #split_sdf_batch_in_compounds(20,SDF_BATCHES_DIR,SDF_PER_COMPOUND_DIR) \n",
    "    #split_sdf_batch_in_compounds('all',SDF_BATCHES_DIR,SDF_PER_COMPOUND_DIR) # split all files \n",
    "\n",
    "    \"\"\"MOL2VEC FEATURIZATION ROUTINE\"\"\" \n",
    "    #mass_featurize_sdf2vec(SDF_FILES_DIR=f'{BASE_DIR}/SDF_PER_COMPOUND/',CSV_FILES_DIR = f'{BASE_DIR}/CSVS/') \n",
    "\n",
    "    \"\"\"MOL2VEC VECTORIZATION\"\"\"\n",
    "    extract_vectorized_molecules(INPUT_DIR=f'{BASE_DIR}/CSVS/', OUTPUT_CSV_FILENAME=f'{BASE_DIR}/VECTORIZED_CSV/vectors_list')\n",
    "    \n",
    "    # create a lookup dictionary , key -> cid , value ->300 vectors value\n",
    "    create_dict_cid_vect()\n",
    "    \n",
    "    \"\"\" FOR DENDROGRAM GENERATION -  EXECUTE clustering2.ipynb  \"\"\"\n",
    "\n",
    "if __name__ == '__main__':\n",
    "    start_execution()\n"
   ]
  },
  {
   "cell_type": "code",
   "execution_count": null,
   "id": "a4d24e32",
   "metadata": {},
   "outputs": [],
   "source": []
  }
 ],
 "metadata": {
  "kernelspec": {
   "display_name": "Python 3",
   "language": "python",
   "name": "python3"
  },
  "language_info": {
   "codemirror_mode": {
    "name": "ipython",
    "version": 3
   },
   "file_extension": ".py",
   "mimetype": "text/x-python",
   "name": "python",
   "nbconvert_exporter": "python",
   "pygments_lexer": "ipython3",
   "version": "3.8.8"
  }
 },
 "nbformat": 4,
 "nbformat_minor": 5
}
