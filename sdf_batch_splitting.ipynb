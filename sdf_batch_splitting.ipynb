{
 "cells": [
  {
   "cell_type": "code",
   "execution_count": 2,
   "id": "06ed3378",
   "metadata": {},
   "outputs": [],
   "source": [
    "import glob\n",
    "import os\n",
    "from rdkit.Chem.Draw import rdMolDraw2D\n",
    "from rdkit.Chem import AllChem\n",
    "from rdkit import Chem\n",
    "from config import BASE_DIR, BColors\n",
    " \n",
    "\n",
    "def split_sdf_batch_in_compounds(number,batchesDir, compoundDir):\n",
    "    batches = glob.glob(batchesDir)\n",
    "    \n",
    "    for batch in batches:\n",
    "        supplier = Chem.SDMolSupplier(batch) \n",
    "             \n",
    "        if number == 'all':\n",
    "            number_of_file = len(supplier)\n",
    "        else:\n",
    "            number_of_file = number\n",
    "             \n",
    "        count = 0\n",
    "        for mol in supplier:\n",
    "            if count < number_of_file:\n",
    "                try:\n",
    "                    AllChem.Compute2DCoords(mol)\n",
    "                    mol_id = mol.GetProp('_Name')\n",
    "                    if not os.path.exists(f'{compoundDir}{mol_id}.sdf'):\n",
    "                        writer = Chem.SDWriter(f'{compoundDir}{mol_id}.sdf')\n",
    "                        writer.write(mol)\n",
    "                        print(f'{BColors.OKBLUE}MOL Converted to file{BColors.ENDC}')\n",
    "                        writer.flush()\n",
    "                        # comment line 27 when we have to run on all files\n",
    "                        count+=1\n",
    "                    else:\n",
    "\n",
    "                        print(f'{BColors.WARNING} {mol_id}.sdf already exists !{BColors.ENDC}')\n",
    "                except Exception as e:\n",
    "                    print(f'{BColors.FAIL} Something wrong with the mole n the DATASET !{BColors.ENDC}')\n",
    "            else:\n",
    "                break\n",
    "\n",
    "    print(f'{BColors.OKGREEN}Batch Splitting Completed!{BColors.ENDC}')\n",
    "    return True"
   ]
  },
  {
   "cell_type": "code",
   "execution_count": 3,
   "id": "c3df8f39",
   "metadata": {},
   "outputs": [],
   "source": [
    "#SDF_PER_COMPOUND_DIR = f'{BASE_DIR}/SDF_PER_COMPOUND/'\n",
    "#SDF_BATCHES_DIR =f'{BASE_DIR}/SDF_BATCHES/*.sdf'\n",
    "#split_sdf_batch_in_compounds(500,SDF_BATCHES_DIR,SDF_PER_COMPOUND_DIR) \n",
    "#split_sdf_batch_in_compounds('all',SDF_BATCHES_DIR,SDF_PER_COMPOUND_DIR) "
   ]
  }
 ],
 "metadata": {
  "kernelspec": {
   "display_name": "Python 3",
   "language": "python",
   "name": "python3"
  },
  "language_info": {
   "codemirror_mode": {
    "name": "ipython",
    "version": 3
   },
   "file_extension": ".py",
   "mimetype": "text/x-python",
   "name": "python",
   "nbconvert_exporter": "python",
   "pygments_lexer": "ipython3",
   "version": "3.8.8"
  }
 },
 "nbformat": 4,
 "nbformat_minor": 5
}
